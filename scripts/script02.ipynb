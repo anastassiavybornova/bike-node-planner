{
 "cells": [
  {
   "cell_type": "markdown",
   "metadata": {},
   "source": [
    "the input folders for the network will be data/raw/network/technical and data/raw/network/communication.\n",
    "* for users who have a technical network as starting point: the comm script checks, sees that there is no file in data/raw/network/communication/, then takes data/raw/network/technical/*.gpkg and creates a communication network which is saved into data/raw/network/communication/ (not 100% clean since the communication network has been processed actually, but i find this the least confusing?)\n",
    "* for users who have a communication network as starting point: the comm script checks, sees that there is already a communication network in data/raw/network/communication/, and takes it from there"
   ]
  },
  {
   "cell_type": "code",
   "execution_count": 6,
   "metadata": {},
   "outputs": [
    {
     "name": "stdout",
     "output_type": "stream",
     "text": [
      "No communication network found. Cannot proceed. Please provide network data in /data/input/network/communication/\n"
     ]
    }
   ],
   "source": [
    "import os\n",
    "\n",
    "display_technical_network = True\n",
    "display_communication_network = True\n",
    "\n",
    "communication_edges_exist = os.path.isfile(\"../data/input/network/communication/edges.gpkg\")\n",
    "communication_nodes_exist = os.path.isfile(\"../data/input/network/communication/nodes.gpkg\")\n",
    "\n",
    "technical_edges_exist = os.path.isfile(\"../data/input/network/technical/edges.gpkg\")\n",
    "technical_nodes_exist = os.path.isfile(\"../data/input/network/technical/nodes.gpkg\")\n",
    "\n",
    "if communication_edges_exist and communication_nodes_exist:\n",
    "    print(\"Communication network found. Will ignore data (if any) in /data/input/network/technical/\")\n",
    "else:\n",
    "    print(\"No communication network found. Cannot proceed. Please provide network data in /data/input/network/communication/\")"
   ]
  },
  {
   "cell_type": "markdown",
   "metadata": {},
   "source": [
    "## Pick up here\n",
    "\n",
    "import communication network and evaluate it (with evaluation layers)"
   ]
  },
  {
   "cell_type": "code",
   "execution_count": null,
   "metadata": {},
   "outputs": [],
   "source": []
  }
 ],
 "metadata": {
  "kernelspec": {
   "display_name": "Python 3",
   "language": "python",
   "name": "python3"
  },
  "language_info": {
   "codemirror_mode": {
    "name": "ipython",
    "version": 3
   },
   "file_extension": ".py",
   "mimetype": "text/x-python",
   "name": "python",
   "nbconvert_exporter": "python",
   "pygments_lexer": "ipython3",
   "version": "3.11.5"
  }
 },
 "nbformat": 4,
 "nbformat_minor": 2
}
