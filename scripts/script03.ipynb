{
 "cells": [
  {
   "cell_type": "code",
   "execution_count": 16,
   "metadata": {},
   "outputs": [],
   "source": [
    "import os\n",
    "import geopandas as gpd"
   ]
  },
  {
   "cell_type": "code",
   "execution_count": 5,
   "metadata": {},
   "outputs": [
    {
     "name": "stdout",
     "output_type": "stream",
     "text": [
      "True\n",
      "True\n",
      "True\n",
      "False\n"
     ]
    }
   ],
   "source": [
    "for geomtype in [\"point\", \"linestring\", \"polygon\", \"blabla\"]:\n",
    "    ))"
   ]
  },
  {
   "cell_type": "code",
   "execution_count": 17,
   "metadata": {},
   "outputs": [],
   "source": []
  },
  {
   "cell_type": "code",
   "execution_count": 21,
   "metadata": {},
   "outputs": [
    {
     "data": {
      "text/plain": [
       "{'filepath': '../data/input/point/poi.gpkg',\n",
       " 'gpkg':         gruppe               type                        geometry\n",
       " 0     Standard             Museum  POINT (701174.318 6123318.454)\n",
       " 1   Supplement  Anden seværdighed  POINT (701558.856 6123699.766)\n",
       " 2   Supplement  Anden seværdighed  POINT (689309.898 6127087.657)\n",
       " 3     Standard             Museum  POINT (698352.839 6127135.098)\n",
       " 4     Standard             Museum  POINT (698473.362 6127698.601)\n",
       " ..         ...                ...                             ...\n",
       " 81    Standard   Badestrand/-sted  POINT (702255.609 6123818.421)\n",
       " 82  Supplement       Udsigtspunkt  POINT (702362.935 6124015.912)\n",
       " 83  Supplement       Udsigtspunkt  POINT (698476.578 6127668.966)\n",
       " 84    Standard       Udsigtspunkt  POINT (698486.296 6127829.939)\n",
       " 85    Standard        Naturområde  POINT (698250.657 6128185.997)\n",
       " \n",
       " [86 rows x 3 columns]}"
      ]
     },
     "execution_count": 21,
     "metadata": {},
     "output_type": "execute_result"
    }
   ],
   "source": [
    "evaldict[\"point\"][\"poi\"]"
   ]
  },
  {
   "cell_type": "code",
   "execution_count": null,
   "metadata": {},
   "outputs": [],
   "source": []
  }
 ],
 "metadata": {
  "kernelspec": {
   "display_name": "Python 3",
   "language": "python",
   "name": "python3"
  },
  "language_info": {
   "codemirror_mode": {
    "name": "ipython",
    "version": 3
   },
   "file_extension": ".py",
   "mimetype": "text/x-python",
   "name": "python",
   "nbconvert_exporter": "python",
   "pygments_lexer": "ipython3",
   "version": "3.11.5"
  }
 },
 "nbformat": 4,
 "nbformat_minor": 2
}
